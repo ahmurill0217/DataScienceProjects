{
  "nbformat": 4,
  "nbformat_minor": 0,
  "metadata": {
    "colab": {
      "name": "Test.ipynb",
      "provenance": [],
      "authorship_tag": "ABX9TyNzbmeyyYI8ew8zPaiBP3Af",
      "include_colab_link": true
    },
    "kernelspec": {
      "name": "python3",
      "display_name": "Python 3"
    },
    "language_info": {
      "name": "python"
    }
  },
  "cells": [
    {
      "cell_type": "markdown",
      "metadata": {
        "id": "view-in-github",
        "colab_type": "text"
      },
      "source": [
        "<a href=\"https://colab.research.google.com/github/ahmurill0217/DataScienceProjects/blob/main/Test.ipynb\" target=\"_parent\"><img src=\"https://colab.research.google.com/assets/colab-badge.svg\" alt=\"Open In Colab\"/></a>"
      ]
    },
    {
      "cell_type": "code",
      "execution_count": 10,
      "metadata": {
        "colab": {
          "base_uri": "https://localhost:8080/"
        },
        "id": "5RAFipqgWeUe",
        "outputId": "e77734fc-7e38-43c2-da5f-d1f63efd96fc"
      },
      "outputs": [
        {
          "output_type": "stream",
          "name": "stdout",
          "text": [
            "Hello World\n",
            "[4, 6, 7, 10]\n",
            "[4, 6, 7]\n"
          ]
        }
      ],
      "source": [
        "print(\"Hello World\")\n",
        "heights = [4, 10 ,6 ,7]\n",
        "heights.sort()\n",
        "print(heights)\n",
        "less_than_5 = heights[:-1]\n",
        "print(less_than_5)"
      ]
    }
  ]
}